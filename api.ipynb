{
  "cells": [
    {
      "cell_type": "code",
      "execution_count": 3,
      "metadata": {
        "id": "j3VWmAQ3BH_o"
      },
      "outputs": [
        {
          "name": "stdout",
          "output_type": "stream",
          "text": [
            "zsh:1: command not found: uninstall\n",
            "\u001b[31mERROR: Could not open requirements file: [Errno 2] No such file or directory: 'modules.txt'\u001b[0m\u001b[31m\n",
            "\u001b[0m"
          ]
        }
      ],
      "source": [
        "\n",
        "!pip uninstall torch\n",
        "!pip install -r requirements.txt"
      ]
    },
    {
      "cell_type": "code",
      "execution_count": 1,
      "metadata": {},
      "outputs": [],
      "source": [
        "from model import Gvozdomet"
      ]
    },
    {
      "cell_type": "code",
      "execution_count": 2,
      "metadata": {},
      "outputs": [
        {
          "name": "stdout",
          "output_type": "stream",
          "text": [
            "Cloning into 'yolov5'...\n",
            "remote: Enumerating objects: 16008, done.\u001b[K\n",
            "remote: Counting objects: 100% (41/41), done.\u001b[K\n",
            "remote: Compressing objects: 100% (28/28), done.\u001b[K\n",
            "remote: Total 16008 (delta 22), reused 20 (delta 13), pack-reused 15967\u001b[K\n",
            "Receiving objects: 100% (16008/16008), 14.60 MiB | 1.60 MiB/s, done.\n",
            "Resolving deltas: 100% (10988/10988), done.\n",
            "/Users/vlyrdv/Desktop/itog_commit/yolov5\n",
            "\n",
            "\u001b[1m[\u001b[0m\u001b[34;49mnotice\u001b[0m\u001b[1;39;49m]\u001b[0m\u001b[39;49m A new release of pip is available: \u001b[0m\u001b[31;49m23.1.2\u001b[0m\u001b[39;49m -> \u001b[0m\u001b[32;49m23.2.1\u001b[0m\n",
            "\u001b[1m[\u001b[0m\u001b[34;49mnotice\u001b[0m\u001b[1;39;49m]\u001b[0m\u001b[39;49m To update, run: \u001b[0m\u001b[32;49mpython3 -m pip install --upgrade pip\u001b[0m\n",
            "Note: you may need to restart the kernel to use updated packages.\n"
          ]
        }
      ],
      "source": [
        "!git clone https://github.com/ultralytics/yolov5\n",
        "%cd yolov5\n",
        "%pip install -qr requirements.txt"
      ]
    },
    {
      "cell_type": "code",
      "execution_count": 3,
      "metadata": {
        "id": "hHpGCwrYLx_u"
      },
      "outputs": [],
      "source": [
        "%matplotlib notebook\n",
        "%matplotlib inline"
      ]
    },
    {
      "cell_type": "markdown",
      "metadata": {},
      "source": []
    },
    {
      "cell_type": "code",
      "execution_count": 4,
      "metadata": {
        "colab": {
          "base_uri": "https://localhost:8080/"
        },
        "id": "fIqqv7vUL1vC",
        "outputId": "83a94b70-b0d9-425f-c2c6-a8e07b6559e9"
      },
      "outputs": [
        {
          "name": "stderr",
          "output_type": "stream",
          "text": [
            "YOLOv5 🚀 v7.0-227-ge4df1ec Python-3.11.4 torch-2.1.0 CPU\n"
          ]
        },
        {
          "name": "stdout",
          "output_type": "stream",
          "text": [
            "Setup complete ✅ (8 CPUs, 16.0 GB RAM, 236.0/460.4 GB disk)\n"
          ]
        }
      ],
      "source": [
        "from glob import glob\n",
        "import easyocr\n",
        "import torch\n",
        "import utils\n",
        "import cv2\n",
        "from PIL import Image\n",
        "import random\n",
        "from matplotlib import pyplot as plt\n",
        "from mpl_toolkits.axes_grid1 import ImageGrid\n",
        "import numpy as np\n",
        "display = utils.notebook_init()"
      ]
    },
    {
      "cell_type": "code",
      "execution_count": 5,
      "metadata": {},
      "outputs": [
        {
          "name": "stdout",
          "output_type": "stream",
          "text": [
            "/Users/vlyrdv/Desktop/itog_commit\n"
          ]
        }
      ],
      "source": [
        "%cd .."
      ]
    },
    {
      "cell_type": "code",
      "execution_count": 6,
      "metadata": {
        "colab": {
          "base_uri": "https://localhost:8080/"
        },
        "id": "mIWx-J7zPTUW",
        "outputId": "d69dcf35-ce69-4cde-8f15-6b8cbb65655b"
      },
      "outputs": [
        {
          "name": "stdout",
          "output_type": "stream",
          "text": [
            " * Serving Flask app '__main__'\n",
            " * Debug mode: off\n"
          ]
        },
        {
          "name": "stderr",
          "output_type": "stream",
          "text": [
            "WARNING: This is a development server. Do not use it in a production deployment. Use a production WSGI server instead.\n",
            " * Running on http://127.0.0.1:5000\n",
            "Press CTRL+C to quit\n",
            "127.0.0.1 - - [15/Oct/2023 12:57:58] \"GET / HTTP/1.1\" 302 -\n",
            "127.0.0.1 - - [15/Oct/2023 12:57:58] \"GET /galery HTTP/1.1\" 200 -\n",
            "127.0.0.1 - - [15/Oct/2023 12:57:58] \"GET /static/css/style.css HTTP/1.1\" 304 -\n",
            "127.0.0.1 - - [15/Oct/2023 12:58:04] \"POST /galery HTTP/1.1\" 302 -\n",
            "Downloading: \"https://github.com/ultralytics/yolov5/zipball/master\" to /Users/vlyrdv/.cache/torch/hub/master.zip\n",
            "YOLOv5 🚀 v7.0-227-ge4df1ec Python-3.11.4 torch-2.1.0 CPU\n",
            "\n",
            "Fusing layers... \n",
            "Model summary: 212 layers, 20852934 parameters, 0 gradients, 47.9 GFLOPs\n",
            "Adding AutoShape... \n",
            "Using CPU. Note: This module is much faster with a GPU.\n",
            "127.0.0.1 - - [15/Oct/2023 12:58:10] \"GET /pred/8 HTTP/1.1\" 200 -\n",
            "127.0.0.1 - - [15/Oct/2023 12:58:31] \"GET / HTTP/1.1\" 302 -\n",
            "127.0.0.1 - - [15/Oct/2023 12:58:31] \"GET /galery HTTP/1.1\" 200 -\n",
            "127.0.0.1 - - [15/Oct/2023 12:58:31] \"GET /static/css/style.css HTTP/1.1\" 304 -\n",
            "127.0.0.1 - - [15/Oct/2023 12:58:38] \"POST /galery HTTP/1.1\" 302 -\n",
            "Downloading: \"https://github.com/ultralytics/yolov5/zipball/master\" to /Users/vlyrdv/.cache/torch/hub/master.zip\n",
            "YOLOv5 🚀 v7.0-227-ge4df1ec Python-3.11.4 torch-2.1.0 CPU\n",
            "\n",
            "Fusing layers... \n",
            "Model summary: 212 layers, 20852934 parameters, 0 gradients, 47.9 GFLOPs\n",
            "Adding AutoShape... \n",
            "Using CPU. Note: This module is much faster with a GPU.\n",
            "127.0.0.1 - - [15/Oct/2023 12:58:44] \"GET /pred/9 HTTP/1.1\" 200 -\n"
          ]
        }
      ],
      "source": [
        "from flask import Flask, request, jsonify, render_template, redirect\n",
        "import time\n",
        "import utils\n",
        "from model import Gvozdomet\n",
        "import os\n",
        "\n",
        "# Создание Flask-приложения\n",
        "app = Flask(__name__)\n",
        "\n",
        "# display = utils.notebook_init()\n",
        "\n",
        "\n",
        "\n",
        "\n",
        "\n",
        "# Определение API-маршрута\n",
        "@app.route('/pred/<img_name>')\n",
        "def predict(img_name):\n",
        "    \n",
        "    obj = Gvozdomet()\n",
        "    obj.connect_model()\n",
        "    # Получение изображения из тела запроса\n",
        "    image_path = f\"static/images/{img_name}.jpg\"\n",
        "\n",
        "    # Подача обработанного изображения на вход модели\n",
        "    predictions = obj.get_number(image_path)\n",
        "\n",
        "\n",
        "    # Возвращение результатов в формате JSON\n",
        "    return {predictions[0] : {\n",
        "        \"time\": time.time(),\n",
        "        \"type\": predictions[1],\n",
        "        \"number\": predictions[2],\n",
        "        \"is_correct\": predictions[-1]\n",
        "    }}\n",
        "\n",
        "@app.route('/galery', methods=['POST', 'GET'])\n",
        "def galery():\n",
        "    title = 'Красная планета'\n",
        "    pictures = os.listdir('static/images')\n",
        "    if request.method == 'GET':\n",
        "        return render_template('galery.html', pictures=pictures, title=title, lnp=len(pictures))\n",
        "    elif request.method == 'POST':\n",
        "        f = request.files['file']\n",
        "        with open(f'static/images/{len(pictures) + 1}.jpg', 'wb') as file:\n",
        "            file.write(f.read())\n",
        "        return redirect(f'/pred/{len(pictures) + 1}')\n",
        "\n",
        "@app.route('/')\n",
        "def start():\n",
        "    return redirect('/galery')\n",
        "\n",
        "\n",
        "# Запуск сервера API\n",
        "if __name__ == '__main__':\n",
        "    app.run(host='127.0.0.1', port=5000)\n",
        "\n"
      ]
    }
  ],
  "metadata": {
    "colab": {
      "provenance": []
    },
    "kernelspec": {
      "display_name": "Python 3",
      "name": "python3"
    },
    "language_info": {
      "codemirror_mode": {
        "name": "ipython",
        "version": 3
      },
      "file_extension": ".py",
      "mimetype": "text/x-python",
      "name": "python",
      "nbconvert_exporter": "python",
      "pygments_lexer": "ipython3",
      "version": "3.11.4"
    }
  },
  "nbformat": 4,
  "nbformat_minor": 0
}
