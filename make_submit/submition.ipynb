{
  "cells": [
    {
      "cell_type": "code",
      "execution_count": 1,
      "metadata": {
        "colab": {
          "base_uri": "https://localhost:8080/"
        },
        "id": "KQ5vZdJwxT2M",
        "outputId": "9d483464-53b4-4fd2-b29b-605c4f3a401e"
      },
      "outputs": [
        {
          "name": "stdout",
          "output_type": "stream",
          "text": [
            "Cloning into 'yolov5'...\n",
            "remote: Enumerating objects: 16008, done.\u001b[K\n",
            "remote: Counting objects: 100% (41/41), done.\u001b[K\n",
            "remote: Compressing objects: 100% (28/28), done.\u001b[K\n",
            "remote: Total 16008 (delta 22), reused 20 (delta 13), pack-reused 15967\u001b[K\n",
            "Receiving objects: 100% (16008/16008), 14.66 MiB | 24.06 MiB/s, done.\n",
            "Resolving deltas: 100% (10984/10984), done.\n",
            "/content/yolov5\n",
            "\u001b[2K     \u001b[90m━━━━━━━━━━━━━━━━━━━━━━━━━━━━━━━━━━━━━━━━\u001b[0m \u001b[32m190.0/190.0 kB\u001b[0m \u001b[31m4.3 MB/s\u001b[0m eta \u001b[36m0:00:00\u001b[0m\n",
            "\u001b[2K     \u001b[90m━━━━━━━━━━━━━━━━━━━━━━━━━━━━━━━━━━━━━━━━\u001b[0m \u001b[32m641.7/641.7 kB\u001b[0m \u001b[31m43.2 MB/s\u001b[0m eta \u001b[36m0:00:00\u001b[0m\n",
            "\u001b[2K     \u001b[90m━━━━━━━━━━━━━━━━━━━━━━━━━━━━━━━━━━━━━━━━\u001b[0m \u001b[32m62.7/62.7 kB\u001b[0m \u001b[31m6.9 MB/s\u001b[0m eta \u001b[36m0:00:00\u001b[0m\n",
            "\u001b[?25h"
          ]
        }
      ],
      "source": [
        "!git clone https://github.com/ultralytics/yolov5\n",
        "%cd yolov5\n",
        "%pip install -qr requirements.txt"
      ]
    },
    {
      "cell_type": "code",
      "execution_count": 2,
      "metadata": {
        "colab": {
          "base_uri": "https://localhost:8080/"
        },
        "id": "F_dLZbBeCi6b",
        "outputId": "9e76bbcf-b0d7-4512-c210-227579f783de"
      },
      "outputs": [
        {
          "name": "stdout",
          "output_type": "stream",
          "text": [
            "Mounted at /content/drive\n"
          ]
        }
      ],
      "source": [
        "from google.colab import drive\n",
        "drive.mount('/content/drive')"
      ]
    },
    {
      "cell_type": "code",
      "execution_count": 3,
      "metadata": {
        "id": "zackDyjnxqKp"
      },
      "outputs": [],
      "source": [
        "%matplotlib notebook\n",
        "%matplotlib inline"
      ]
    },
    {
      "cell_type": "code",
      "execution_count": 4,
      "metadata": {
        "colab": {
          "base_uri": "https://localhost:8080/"
        },
        "id": "pwok9yB3xr66",
        "outputId": "6bfe93df-da73-496e-bc56-45b33c930bff"
      },
      "outputs": [
        {
          "name": "stderr",
          "output_type": "stream",
          "text": [
            "YOLOv5 🚀 v7.0-227-ge4df1ec Python-3.10.12 torch-2.0.1+cu118 CUDA:0 (Tesla T4, 15102MiB)\n"
          ]
        },
        {
          "name": "stdout",
          "output_type": "stream",
          "text": [
            "Setup complete ✅ (2 CPUs, 12.7 GB RAM, 26.9/166.8 GB disk)\n"
          ]
        }
      ],
      "source": [
        "from glob import glob\n",
        "import torch\n",
        "import utils\n",
        "import cv2\n",
        "from PIL import Image\n",
        "import random\n",
        "from matplotlib import pyplot as plt\n",
        "from mpl_toolkits.axes_grid1 import ImageGrid\n",
        "import numpy as np\n",
        "display = utils.notebook_init()"
      ]
    },
    {
      "cell_type": "code",
      "execution_count": 5,
      "metadata": {
        "colab": {
          "base_uri": "https://localhost:8080/",
          "height": 35
        },
        "id": "Pd35gB6DyQLt",
        "outputId": "23d88ad4-c5e1-4e37-af71-f38aa9cb57c8"
      },
      "outputs": [
        {
          "data": {
            "application/vnd.google.colaboratory.intrinsic+json": {
              "type": "string"
            },
            "text/plain": [
              "'/content/yolov5'"
            ]
          },
          "execution_count": 5,
          "metadata": {},
          "output_type": "execute_result"
        }
      ],
      "source": [
        "%pwd"
      ]
    },
    {
      "cell_type": "code",
      "execution_count": null,
      "metadata": {
        "id": "kSEFZyAByMRd"
      },
      "outputs": [],
      "source": [
        "!unzip /content/drive/MyDrive/num_weights/data2.zip"
      ]
    },
    {
      "cell_type": "code",
      "execution_count": null,
      "metadata": {
        "id": "6I21UdyQLaeN"
      },
      "outputs": [],
      "source": [
        "!pip install easyocr"
      ]
    },
    {
      "cell_type": "code",
      "execution_count": 8,
      "metadata": {
        "id": "N0f_rFFAuz-A"
      },
      "outputs": [],
      "source": [
        "import easyocr"
      ]
    },
    {
      "cell_type": "code",
      "execution_count": 9,
      "metadata": {
        "colab": {
          "base_uri": "https://localhost:8080/"
        },
        "id": "scyZV-f1u9Ck",
        "outputId": "33f0cf1c-06a0-4bf9-c7bc-0cffeae312ff"
      },
      "outputs": [
        {
          "name": "stderr",
          "output_type": "stream",
          "text": [
            "WARNING:easyocr.easyocr:Using CPU. Note: This module is much faster with a GPU.\n",
            "WARNING:easyocr.easyocr:Downloading detection model, please wait. This may take several minutes depending upon your network connection.\n"
          ]
        },
        {
          "name": "stdout",
          "output_type": "stream",
          "text": [
            "Progress: |██████████████████████████████████████████████████| 100.0% Complete"
          ]
        },
        {
          "name": "stderr",
          "output_type": "stream",
          "text": [
            "WARNING:easyocr.easyocr:Downloading recognition model, please wait. This may take several minutes depending upon your network connection.\n"
          ]
        },
        {
          "name": "stdout",
          "output_type": "stream",
          "text": [
            "Progress: |██████████████████████████████████████████████████| 100.0% Complete"
          ]
        }
      ],
      "source": [
        "reader = easyocr.Reader(['en'], gpu=False)"
      ]
    },
    {
      "cell_type": "code",
      "execution_count": 10,
      "metadata": {
        "colab": {
          "base_uri": "https://localhost:8080/",
          "height": 35
        },
        "id": "WbR_pon5kK_h",
        "outputId": "6dcb2f25-429b-4746-d350-7c1b2f3e9a97"
      },
      "outputs": [
        {
          "data": {
            "application/vnd.google.colaboratory.intrinsic+json": {
              "type": "string"
            },
            "text/plain": [
              "'/content/yolov5'"
            ]
          },
          "execution_count": 10,
          "metadata": {},
          "output_type": "execute_result"
        }
      ],
      "source": [
        "%pwd"
      ]
    },
    {
      "cell_type": "code",
      "execution_count": 11,
      "metadata": {
        "colab": {
          "base_uri": "https://localhost:8080/"
        },
        "id": "9_3PWahVkVnE",
        "outputId": "a32f40d7-3e7e-4b64-f5e5-1e6d4958c324"
      },
      "outputs": [
        {
          "name": "stdout",
          "output_type": "stream",
          "text": [
            "/content\n"
          ]
        }
      ],
      "source": [
        "cd .."
      ]
    },
    {
      "cell_type": "code",
      "execution_count": null,
      "metadata": {
        "id": "YJDB-Tc1kXs-"
      },
      "outputs": [],
      "source": [
        "!unzip /content/drive/MyDrive/HakCifra/hac_number.zip"
      ]
    },
    {
      "cell_type": "code",
      "execution_count": 36,
      "metadata": {
        "id": "N8s8VDWkvU2Z"
      },
      "outputs": [],
      "source": [
        "submit = []"
      ]
    },
    {
      "cell_type": "code",
      "execution_count": 37,
      "metadata": {
        "colab": {
          "base_uri": "https://localhost:8080/",
          "height": 35
        },
        "id": "L_x8KkqKMQXS",
        "outputId": "a18030eb-2ebf-4569-e6a2-29c32fa7adcf"
      },
      "outputs": [
        {
          "data": {
            "application/vnd.google.colaboratory.intrinsic+json": {
              "type": "string"
            },
            "text/plain": [
              "'/content'"
            ]
          },
          "execution_count": 37,
          "metadata": {},
          "output_type": "execute_result"
        }
      ],
      "source": [
        "%pwd"
      ]
    },
    {
      "cell_type": "code",
      "execution_count": 38,
      "metadata": {
        "colab": {
          "base_uri": "https://localhost:8080/"
        },
        "id": "lcZSlZ33QiAK",
        "outputId": "470df88f-f7b8-42d9-e092-0f70a690a374"
      },
      "outputs": [
        {
          "name": "stderr",
          "output_type": "stream",
          "text": [
            "Downloading: \"https://github.com/ultralytics/yolov5/zipball/master\" to /root/.cache/torch/hub/master.zip\n",
            "YOLOv5 🚀 v7.0-227-ge4df1ec Python-3.10.12 torch-2.0.1+cu118 CUDA:0 (Tesla T4, 15102MiB)\n",
            "\n",
            "Fusing layers... \n",
            "Model summary: 212 layers, 20852934 parameters, 0 gradients, 47.9 GFLOPs\n",
            "Adding AutoShape... \n"
          ]
        }
      ],
      "source": [
        "model = torch.hub.load('ultralytics/yolov5', 'custom', path='../train_num_yolov5_weights.pt', force_reload=True)\n",
        "model.conf = 0.5 #нижняя планка вероятности для предсказания\n",
        "preds = []\n",
        "y = []\n",
        "i = 0\n",
        "count = 0\n",
        "\n",
        "\n",
        "\n",
        "for pth in glob(r'/content/null/*'):\n",
        "\n",
        "    img = Image.open(pth)\n",
        "    img = img.resize((640, 640))\n",
        "    results = model(img)\n",
        "\n",
        "\n",
        "    arr = [pth]\n",
        "    img = cv2.resize(cv2.imread(pth), (640, 640))\n",
        "    if results.xyxy[0].shape[0] > 0:\n",
        "        mas = results.xyxy[0][0].cpu().numpy().tolist()[:-2]\n",
        "        for i in range(len(mas)):\n",
        "            mas[i] = int(round(mas[i], 0))\n",
        "\n",
        "\n",
        "        img_rec = img[mas[1]:mas[3], mas[0]:mas[2]]\n",
        "\n",
        "\n",
        "        img_rec = cv2.cvtColor(img_rec, cv2.COLOR_BGR2GRAY)\n",
        "\n",
        "\n",
        "        detections = reader.readtext(img_rec, detail=0)\n",
        "        if len(detections) > 0:\n",
        "            itog_nm = \"\"\n",
        "            num = detections[0]\n",
        "            for i in num:\n",
        "                if i in \"0123456789\":\n",
        "                    itog_nm += i\n",
        "                elif i in \"\\|/\":\n",
        "                    itog_nm += \"1\"\n",
        "            if len(itog_nm) > 0:\n",
        "                arr.append(1) #добавили 1 в type\n",
        "                arr.append(int(itog_nm)) # добавили номер\n",
        "\n",
        "\n",
        "                if len(itog_nm) == 8:\n",
        "\n",
        "\n",
        "                    mnog = \"21212121\"\n",
        "                    sm = \"\"\n",
        "                    for i in range(len(itog_nm) - 1):\n",
        "                        sm += str(int(itog_nm[i]) * int(mnog[i]))\n",
        "\n",
        "                    itog_sm = 0\n",
        "                    for i in sm:\n",
        "                        itog_sm += int(i)\n",
        "\n",
        "\n",
        "                    if 10 - (itog_sm % 10) == int(itog_nm[-1]):\n",
        "                        arr.append(1) #добавили is_correct 1 если прошло\n",
        "                    else:\n",
        "                        arr.append(0)#добавили is_correct 0 если не прошло\n",
        "\n",
        "                else:\n",
        "                    arr.append(0) #добавили is_correct 0 если длина != 8\n",
        "            else:\n",
        "                arr.append(0)\n",
        "                arr.append(94012576)\n",
        "                arr.append(0)\n",
        "    else: # заливаем форму при отсутствии\n",
        "        arr.append(0)\n",
        "        arr.append(94012576)\n",
        "        arr.append(0)\n",
        "\n",
        "    submit.append(arr)\n",
        "\n"
      ]
    },
    {
      "cell_type": "code",
      "execution_count": 39,
      "metadata": {
        "colab": {
          "base_uri": "https://localhost:8080/"
        },
        "id": "NbCyy1msA8m7",
        "outputId": "d705f005-7aae-421f-b734-c27853ecacc0"
      },
      "outputs": [
        {
          "data": {
            "text/plain": [
              "[['/content/null/NONE180.jpg', 0, 94012576, 0],\n",
              " ['/content/null/NONE4.jpg', 0, 94012576, 0],\n",
              " ['/content/null/NONE24.jpg', 0, 94012576, 0],\n",
              " ['/content/null/NONE71.jpg', 0, 94012576, 0],\n",
              " ['/content/null/NONE89.jpg', 0, 94012576, 0],\n",
              " ['/content/null/NONE33.jpg', 0, 94012576, 0],\n",
              " ['/content/null/NONE18.jpg', 0, 94012576, 0],\n",
              " ['/content/null/NONE61.jpg', 0, 94012576, 0],\n",
              " ['/content/null/NONE14.jpg', 0, 94012576, 0],\n",
              " ['/content/null/NONE124.jpg', 0, 94012576, 0],\n",
              " ['/content/null/NONE113.jpg', 0, 94012576, 0],\n",
              " ['/content/null/NONE78.jpg', 0, 94012576, 0],\n",
              " ['/content/null/NONE8.jpg', 0, 94012576, 0],\n",
              " ['/content/null/NONE59.jpg', 0, 94012576, 0],\n",
              " ['/content/null/NONE76.jpg', 0, 94012576, 0],\n",
              " ['/content/null/NONE38.jpg', 0, 94012576, 0],\n",
              " ['/content/null/NONE22.jpg', 0, 94012576, 0],\n",
              " ['/content/null/NONE139.jpg', 0, 94012576, 0],\n",
              " ['/content/null/NONE1.jpg', 0, 94012576, 0],\n",
              " ['/content/null/NONE66.jpg', 0, 94012576, 0],\n",
              " ['/content/null/NONE175.jpg', 0, 94012576, 0],\n",
              " ['/content/null/NONE13.jpg', 0, 94012576, 0],\n",
              " ['/content/null/NONE145.jpg', 0, 94012576, 0],\n",
              " ['/content/null/NONE108.jpg', 0, 94012576, 0],\n",
              " ['/content/null/NONE50.jpg', 0, 94012576, 0],\n",
              " ['/content/null/NONE98.jpg', 0, 94012576, 0],\n",
              " ['/content/null/NONE128.jpg', 0, 94012576, 0],\n",
              " ['/content/null/NONE149.jpg', 0, 94012576, 0],\n",
              " ['/content/null/NONE126.jpg', 0, 94012576, 0],\n",
              " ['/content/null/NONE40.jpg', 0, 94012576, 0],\n",
              " ['/content/null/NONE134.jpg', 0, 94012576, 0],\n",
              " ['/content/null/NONE103.jpg', 0, 94012576, 0],\n",
              " ['/content/null/NONE144.jpg', 0, 94012576, 0],\n",
              " ['/content/null/NONE15.jpg', 0, 94012576, 0],\n",
              " ['/content/null/NONE60.jpg', 0, 94012576, 0],\n",
              " ['/content/null/NONE47.jpg', 0, 94012576, 0],\n",
              " ['/content/null/NONE29.jpg', 0, 94012576, 0],\n",
              " ['/content/null/NONE150.jpg', 0, 94012576, 0],\n",
              " ['/content/null/NONE156.jpg', 0, 94012576, 0],\n",
              " ['/content/null/NONE87.jpg', 0, 94012576, 0],\n",
              " ['/content/null/NONE30.jpg', 0, 94012576, 0],\n",
              " ['/content/null/NONE170.jpg', 0, 94012576, 0],\n",
              " ['/content/null/NONE84.jpg', 0, 94012576, 0],\n",
              " ['/content/null/NONE148.jpg', 0, 94012576, 0],\n",
              " ['/content/null/NONE164.jpg', 0, 94012576, 0],\n",
              " ['/content/null/NONE129.jpg', 0, 94012576, 0],\n",
              " ['/content/null/NONE125.jpg', 0, 94012576, 0],\n",
              " ['/content/null/NONE69.jpg', 0, 94012576, 0],\n",
              " ['/content/null/NONE27.jpg', 0, 94012576, 0],\n",
              " ['/content/null/NONE26.jpg', 0, 94012576, 0],\n",
              " ['/content/null/NONE21.jpg', 0, 94012576, 0],\n",
              " ['/content/null/NONE163.jpg', 0, 94012576, 0],\n",
              " ['/content/null/NONE32.jpg', 0, 94012576, 0],\n",
              " ['/content/null/NONE5.jpg', 0, 94012576, 0],\n",
              " ['/content/null/NONE166.jpg', 0, 94012576, 0],\n",
              " ['/content/null/NONE75.jpg', 0, 94012576, 0],\n",
              " ['/content/null/NONE11.jpg', 0, 94012576, 0],\n",
              " ['/content/null/NONE44.jpg', 0, 94012576, 0],\n",
              " ['/content/null/NONE171.jpg', 0, 94012576, 0],\n",
              " ['/content/null/NONE81.jpg', 0, 94012576, 0],\n",
              " ['/content/null/NONE95.jpg', 0, 94012576, 0],\n",
              " ['/content/null/NONE138.jpg', 0, 94012576, 0],\n",
              " ['/content/null/NONE25.jpg', 0, 94012576, 0],\n",
              " ['/content/null/NONE141.jpg', 0, 94012576, 0],\n",
              " ['/content/null/NONE90.jpg', 0, 94012576, 0],\n",
              " ['/content/null/NONE102.jpg', 0, 94012576, 0],\n",
              " ['/content/null/NONE7.jpg', 0, 94012576, 0],\n",
              " ['/content/null/NONE120.jpg', 0, 94012576, 0],\n",
              " ['/content/null/NONE159.jpg', 0, 94012576, 0],\n",
              " ['/content/null/NONE143.jpg', 0, 94012576, 0],\n",
              " ['/content/null/NONE153.jpg', 0, 94012576, 0],\n",
              " ['/content/null/NONE101.jpg', 0, 94012576, 0],\n",
              " ['/content/null/NONE130.jpg', 0, 94012576, 0],\n",
              " ['/content/null/NONE123.jpg', 0, 94012576, 0],\n",
              " ['/content/null/NONE91.jpg', 0, 94012576, 0],\n",
              " ['/content/null/NONE127.jpg', 0, 94012576, 0],\n",
              " ['/content/null/NONE161.jpg', 0, 94012576, 0],\n",
              " ['/content/null/NONE155.jpg', 0, 94012576, 0],\n",
              " ['/content/null/NONE12.jpg', 0, 94012576, 0],\n",
              " ['/content/null/NONE177.jpg', 0, 94012576, 0],\n",
              " ['/content/null/NONE107.jpg', 0, 94012576, 0],\n",
              " ['/content/null/NONE111.jpg', 0, 94012576, 0],\n",
              " ['/content/null/NONE133.jpg', 0, 94012576, 0],\n",
              " ['/content/null/NONE68.jpg', 0, 94012576, 0],\n",
              " ['/content/null/NONE67.jpg', 0, 94012576, 0],\n",
              " ['/content/null/NONE97.jpg', 0, 94012576, 0],\n",
              " ['/content/null/NONE63.jpg', 0, 94012576, 0],\n",
              " ['/content/null/NONE162.jpg', 0, 94012576, 0],\n",
              " ['/content/null/NONE173.jpg', 0, 94012576, 0],\n",
              " ['/content/null/NONE96.jpg', 0, 94012576, 0],\n",
              " ['/content/null/NONE85.jpg', 0, 94012576, 0],\n",
              " ['/content/null/NONE160.jpg', 0, 94012576, 0],\n",
              " ['/content/null/NONE114.jpg', 0, 94012576, 0],\n",
              " ['/content/null/NONE53.jpg', 0, 94012576, 0],\n",
              " ['/content/null/NONE152.jpg', 0, 94012576, 0],\n",
              " ['/content/null/NONE10.jpg', 0, 94012576, 0],\n",
              " ['/content/null/NONE100.jpg', 0, 94012576, 0],\n",
              " ['/content/null/NONE19.jpg', 0, 94012576, 0],\n",
              " ['/content/null/NONE56.jpg', 0, 94012576, 0],\n",
              " ['/content/null/NONE132.jpg', 0, 94012576, 0],\n",
              " ['/content/null/NONE131.jpg', 0, 94012576, 0],\n",
              " ['/content/null/NONE34.jpg', 0, 94012576, 0],\n",
              " ['/content/null/NONE3.jpg', 0, 94012576, 0],\n",
              " ['/content/null/NONE174.jpg', 0, 94012576, 0],\n",
              " ['/content/null/NONE110.jpg', 0, 94012576, 0],\n",
              " ['/content/null/NONE151.jpg', 0, 94012576, 0],\n",
              " ['/content/null/NONE45.jpg', 0, 94012576, 0],\n",
              " ['/content/null/NONE147.jpg', 0, 94012576, 0],\n",
              " ['/content/null/NONE142.jpg', 0, 94012576, 0],\n",
              " ['/content/null/NONE105.jpg', 0, 94012576, 0],\n",
              " ['/content/null/NONE49.jpg', 0, 94012576, 0],\n",
              " ['/content/null/NONE115.jpg', 0, 94012576, 0],\n",
              " ['/content/null/NONE109.jpg', 0, 94012576, 0],\n",
              " ['/content/null/NONE73.jpg', 0, 94012576, 0],\n",
              " ['/content/null/NONE179.jpg', 0, 94012576, 0],\n",
              " ['/content/null/NONE121.jpg', 0, 94012576, 0],\n",
              " ['/content/null/NONE52.jpg', 0, 94012576, 0],\n",
              " ['/content/null/NONE168.jpg', 0, 94012576, 0],\n",
              " ['/content/null/NONE37.jpg', 0, 94012576, 0],\n",
              " ['/content/null/NONE43.jpg', 0, 94012576, 0],\n",
              " ['/content/null/NONE93.jpg', 0, 94012576, 0],\n",
              " ['/content/null/NONE157.jpg', 0, 94012576, 0],\n",
              " ['/content/null/NONE172.jpg', 0, 94012576, 0],\n",
              " ['/content/null/NONE146.jpg', 0, 94012576, 0],\n",
              " ['/content/null/NONE31.jpg', 0, 94012576, 0],\n",
              " ['/content/null/NONE88.jpg', 0, 94012576, 0],\n",
              " ['/content/null/NONE48.jpg', 0, 94012576, 0],\n",
              " ['/content/null/NONE35.jpg', 0, 94012576, 0],\n",
              " ['/content/null/NONE122.jpg', 0, 94012576, 0],\n",
              " ['/content/null/NONE17.jpg', 0, 94012576, 0],\n",
              " ['/content/null/NONE42.jpg', 0, 94012576, 0],\n",
              " ['/content/null/NONE9.jpg', 0, 94012576, 0],\n",
              " ['/content/null/NONE181.jpg', 0, 94012576, 0],\n",
              " ['/content/null/NONE77.jpg', 0, 94012576, 0],\n",
              " ['/content/null/NONE82.jpg', 0, 94012576, 0],\n",
              " ['/content/null/NONE20.jpg', 0, 94012576, 0],\n",
              " ['/content/null/NONE119.jpg', 0, 94012576, 0],\n",
              " ['/content/null/NONE55.jpg', 0, 94012576, 0],\n",
              " ['/content/null/NONE54.jpg', 0, 94012576, 0],\n",
              " ['/content/null/NONE65.jpg', 0, 94012576, 0],\n",
              " ['/content/null/NONE118.jpg', 0, 94012576, 0],\n",
              " ['/content/null/NONE70.jpg', 0, 94012576, 0],\n",
              " ['/content/null/NONE137.jpg', 0, 94012576, 0],\n",
              " ['/content/null/NONE92.jpg', 0, 94012576, 0],\n",
              " ['/content/null/NONE112.jpg', 0, 94012576, 0]]"
            ]
          },
          "execution_count": 39,
          "metadata": {},
          "output_type": "execute_result"
        }
      ],
      "source": [
        "submit"
      ]
    },
    {
      "cell_type": "code",
      "execution_count": 40,
      "metadata": {
        "id": "ycBCDp5lhmAE"
      },
      "outputs": [],
      "source": [
        "import pandas as pd"
      ]
    },
    {
      "cell_type": "code",
      "execution_count": 41,
      "metadata": {
        "id": "iPfrZor7YYUi"
      },
      "outputs": [],
      "source": [
        "df = pd.DataFrame(submit, columns =['filename', 'type', 'number', 'is_correct'])"
      ]
    },
    {
      "cell_type": "code",
      "execution_count": 43,
      "metadata": {
        "colab": {
          "base_uri": "https://localhost:8080/",
          "height": 419
        },
        "id": "at8DNFPbfvKy",
        "outputId": "7683b23c-94df-43b6-babe-8a3dfcb17881"
      },
      "outputs": [
        {
          "data": {
            "text/html": [
              "\n",
              "  <div id=\"df-5044b4b0-480d-4903-837d-bcbe5f2306ba\" class=\"colab-df-container\">\n",
              "    <div>\n",
              "<style scoped>\n",
              "    .dataframe tbody tr th:only-of-type {\n",
              "        vertical-align: middle;\n",
              "    }\n",
              "\n",
              "    .dataframe tbody tr th {\n",
              "        vertical-align: top;\n",
              "    }\n",
              "\n",
              "    .dataframe thead th {\n",
              "        text-align: right;\n",
              "    }\n",
              "</style>\n",
              "<table border=\"1\" class=\"dataframe\">\n",
              "  <thead>\n",
              "    <tr style=\"text-align: right;\">\n",
              "      <th></th>\n",
              "      <th>filename</th>\n",
              "      <th>type</th>\n",
              "      <th>number</th>\n",
              "      <th>is_correct</th>\n",
              "    </tr>\n",
              "  </thead>\n",
              "  <tbody>\n",
              "    <tr>\n",
              "      <th>0</th>\n",
              "      <td>/content/null/NONE180.jpg</td>\n",
              "      <td>0</td>\n",
              "      <td>94012576</td>\n",
              "      <td>0</td>\n",
              "    </tr>\n",
              "    <tr>\n",
              "      <th>1</th>\n",
              "      <td>/content/null/NONE4.jpg</td>\n",
              "      <td>0</td>\n",
              "      <td>94012576</td>\n",
              "      <td>0</td>\n",
              "    </tr>\n",
              "    <tr>\n",
              "      <th>2</th>\n",
              "      <td>/content/null/NONE24.jpg</td>\n",
              "      <td>0</td>\n",
              "      <td>94012576</td>\n",
              "      <td>0</td>\n",
              "    </tr>\n",
              "    <tr>\n",
              "      <th>3</th>\n",
              "      <td>/content/null/NONE71.jpg</td>\n",
              "      <td>0</td>\n",
              "      <td>94012576</td>\n",
              "      <td>0</td>\n",
              "    </tr>\n",
              "    <tr>\n",
              "      <th>4</th>\n",
              "      <td>/content/null/NONE89.jpg</td>\n",
              "      <td>0</td>\n",
              "      <td>94012576</td>\n",
              "      <td>0</td>\n",
              "    </tr>\n",
              "    <tr>\n",
              "      <th>...</th>\n",
              "      <td>...</td>\n",
              "      <td>...</td>\n",
              "      <td>...</td>\n",
              "      <td>...</td>\n",
              "    </tr>\n",
              "    <tr>\n",
              "      <th>140</th>\n",
              "      <td>/content/null/NONE118.jpg</td>\n",
              "      <td>0</td>\n",
              "      <td>94012576</td>\n",
              "      <td>0</td>\n",
              "    </tr>\n",
              "    <tr>\n",
              "      <th>141</th>\n",
              "      <td>/content/null/NONE70.jpg</td>\n",
              "      <td>0</td>\n",
              "      <td>94012576</td>\n",
              "      <td>0</td>\n",
              "    </tr>\n",
              "    <tr>\n",
              "      <th>142</th>\n",
              "      <td>/content/null/NONE137.jpg</td>\n",
              "      <td>0</td>\n",
              "      <td>94012576</td>\n",
              "      <td>0</td>\n",
              "    </tr>\n",
              "    <tr>\n",
              "      <th>143</th>\n",
              "      <td>/content/null/NONE92.jpg</td>\n",
              "      <td>0</td>\n",
              "      <td>94012576</td>\n",
              "      <td>0</td>\n",
              "    </tr>\n",
              "    <tr>\n",
              "      <th>144</th>\n",
              "      <td>/content/null/NONE112.jpg</td>\n",
              "      <td>0</td>\n",
              "      <td>94012576</td>\n",
              "      <td>0</td>\n",
              "    </tr>\n",
              "  </tbody>\n",
              "</table>\n",
              "<p>145 rows × 4 columns</p>\n",
              "</div>\n",
              "    <div class=\"colab-df-buttons\">\n",
              "\n",
              "  <div class=\"colab-df-container\">\n",
              "    <button class=\"colab-df-convert\" onclick=\"convertToInteractive('df-5044b4b0-480d-4903-837d-bcbe5f2306ba')\"\n",
              "            title=\"Convert this dataframe to an interactive table.\"\n",
              "            style=\"display:none;\">\n",
              "\n",
              "  <svg xmlns=\"http://www.w3.org/2000/svg\" height=\"24px\" viewBox=\"0 -960 960 960\">\n",
              "    <path d=\"M120-120v-720h720v720H120Zm60-500h600v-160H180v160Zm220 220h160v-160H400v160Zm0 220h160v-160H400v160ZM180-400h160v-160H180v160Zm440 0h160v-160H620v160ZM180-180h160v-160H180v160Zm440 0h160v-160H620v160Z\"/>\n",
              "  </svg>\n",
              "    </button>\n",
              "\n",
              "  <style>\n",
              "    .colab-df-container {\n",
              "      display:flex;\n",
              "      gap: 12px;\n",
              "    }\n",
              "\n",
              "    .colab-df-convert {\n",
              "      background-color: #E8F0FE;\n",
              "      border: none;\n",
              "      border-radius: 50%;\n",
              "      cursor: pointer;\n",
              "      display: none;\n",
              "      fill: #1967D2;\n",
              "      height: 32px;\n",
              "      padding: 0 0 0 0;\n",
              "      width: 32px;\n",
              "    }\n",
              "\n",
              "    .colab-df-convert:hover {\n",
              "      background-color: #E2EBFA;\n",
              "      box-shadow: 0px 1px 2px rgba(60, 64, 67, 0.3), 0px 1px 3px 1px rgba(60, 64, 67, 0.15);\n",
              "      fill: #174EA6;\n",
              "    }\n",
              "\n",
              "    .colab-df-buttons div {\n",
              "      margin-bottom: 4px;\n",
              "    }\n",
              "\n",
              "    [theme=dark] .colab-df-convert {\n",
              "      background-color: #3B4455;\n",
              "      fill: #D2E3FC;\n",
              "    }\n",
              "\n",
              "    [theme=dark] .colab-df-convert:hover {\n",
              "      background-color: #434B5C;\n",
              "      box-shadow: 0px 1px 3px 1px rgba(0, 0, 0, 0.15);\n",
              "      filter: drop-shadow(0px 1px 2px rgba(0, 0, 0, 0.3));\n",
              "      fill: #FFFFFF;\n",
              "    }\n",
              "  </style>\n",
              "\n",
              "    <script>\n",
              "      const buttonEl =\n",
              "        document.querySelector('#df-5044b4b0-480d-4903-837d-bcbe5f2306ba button.colab-df-convert');\n",
              "      buttonEl.style.display =\n",
              "        google.colab.kernel.accessAllowed ? 'block' : 'none';\n",
              "\n",
              "      async function convertToInteractive(key) {\n",
              "        const element = document.querySelector('#df-5044b4b0-480d-4903-837d-bcbe5f2306ba');\n",
              "        const dataTable =\n",
              "          await google.colab.kernel.invokeFunction('convertToInteractive',\n",
              "                                                    [key], {});\n",
              "        if (!dataTable) return;\n",
              "\n",
              "        const docLinkHtml = 'Like what you see? Visit the ' +\n",
              "          '<a target=\"_blank\" href=https://colab.research.google.com/notebooks/data_table.ipynb>data table notebook</a>'\n",
              "          + ' to learn more about interactive tables.';\n",
              "        element.innerHTML = '';\n",
              "        dataTable['output_type'] = 'display_data';\n",
              "        await google.colab.output.renderOutput(dataTable, element);\n",
              "        const docLink = document.createElement('div');\n",
              "        docLink.innerHTML = docLinkHtml;\n",
              "        element.appendChild(docLink);\n",
              "      }\n",
              "    </script>\n",
              "  </div>\n",
              "\n",
              "\n",
              "<div id=\"df-ecbb2cf2-aba9-42bb-b60a-012f13ae3917\">\n",
              "  <button class=\"colab-df-quickchart\" onclick=\"quickchart('df-ecbb2cf2-aba9-42bb-b60a-012f13ae3917')\"\n",
              "            title=\"Suggest charts.\"\n",
              "            style=\"display:none;\">\n",
              "\n",
              "<svg xmlns=\"http://www.w3.org/2000/svg\" height=\"24px\"viewBox=\"0 0 24 24\"\n",
              "     width=\"24px\">\n",
              "    <g>\n",
              "        <path d=\"M19 3H5c-1.1 0-2 .9-2 2v14c0 1.1.9 2 2 2h14c1.1 0 2-.9 2-2V5c0-1.1-.9-2-2-2zM9 17H7v-7h2v7zm4 0h-2V7h2v10zm4 0h-2v-4h2v4z\"/>\n",
              "    </g>\n",
              "</svg>\n",
              "  </button>\n",
              "\n",
              "<style>\n",
              "  .colab-df-quickchart {\n",
              "      --bg-color: #E8F0FE;\n",
              "      --fill-color: #1967D2;\n",
              "      --hover-bg-color: #E2EBFA;\n",
              "      --hover-fill-color: #174EA6;\n",
              "      --disabled-fill-color: #AAA;\n",
              "      --disabled-bg-color: #DDD;\n",
              "  }\n",
              "\n",
              "  [theme=dark] .colab-df-quickchart {\n",
              "      --bg-color: #3B4455;\n",
              "      --fill-color: #D2E3FC;\n",
              "      --hover-bg-color: #434B5C;\n",
              "      --hover-fill-color: #FFFFFF;\n",
              "      --disabled-bg-color: #3B4455;\n",
              "      --disabled-fill-color: #666;\n",
              "  }\n",
              "\n",
              "  .colab-df-quickchart {\n",
              "    background-color: var(--bg-color);\n",
              "    border: none;\n",
              "    border-radius: 50%;\n",
              "    cursor: pointer;\n",
              "    display: none;\n",
              "    fill: var(--fill-color);\n",
              "    height: 32px;\n",
              "    padding: 0;\n",
              "    width: 32px;\n",
              "  }\n",
              "\n",
              "  .colab-df-quickchart:hover {\n",
              "    background-color: var(--hover-bg-color);\n",
              "    box-shadow: 0 1px 2px rgba(60, 64, 67, 0.3), 0 1px 3px 1px rgba(60, 64, 67, 0.15);\n",
              "    fill: var(--button-hover-fill-color);\n",
              "  }\n",
              "\n",
              "  .colab-df-quickchart-complete:disabled,\n",
              "  .colab-df-quickchart-complete:disabled:hover {\n",
              "    background-color: var(--disabled-bg-color);\n",
              "    fill: var(--disabled-fill-color);\n",
              "    box-shadow: none;\n",
              "  }\n",
              "\n",
              "  .colab-df-spinner {\n",
              "    border: 2px solid var(--fill-color);\n",
              "    border-color: transparent;\n",
              "    border-bottom-color: var(--fill-color);\n",
              "    animation:\n",
              "      spin 1s steps(1) infinite;\n",
              "  }\n",
              "\n",
              "  @keyframes spin {\n",
              "    0% {\n",
              "      border-color: transparent;\n",
              "      border-bottom-color: var(--fill-color);\n",
              "      border-left-color: var(--fill-color);\n",
              "    }\n",
              "    20% {\n",
              "      border-color: transparent;\n",
              "      border-left-color: var(--fill-color);\n",
              "      border-top-color: var(--fill-color);\n",
              "    }\n",
              "    30% {\n",
              "      border-color: transparent;\n",
              "      border-left-color: var(--fill-color);\n",
              "      border-top-color: var(--fill-color);\n",
              "      border-right-color: var(--fill-color);\n",
              "    }\n",
              "    40% {\n",
              "      border-color: transparent;\n",
              "      border-right-color: var(--fill-color);\n",
              "      border-top-color: var(--fill-color);\n",
              "    }\n",
              "    60% {\n",
              "      border-color: transparent;\n",
              "      border-right-color: var(--fill-color);\n",
              "    }\n",
              "    80% {\n",
              "      border-color: transparent;\n",
              "      border-right-color: var(--fill-color);\n",
              "      border-bottom-color: var(--fill-color);\n",
              "    }\n",
              "    90% {\n",
              "      border-color: transparent;\n",
              "      border-bottom-color: var(--fill-color);\n",
              "    }\n",
              "  }\n",
              "</style>\n",
              "\n",
              "  <script>\n",
              "    async function quickchart(key) {\n",
              "      const quickchartButtonEl =\n",
              "        document.querySelector('#' + key + ' button');\n",
              "      quickchartButtonEl.disabled = true;  // To prevent multiple clicks.\n",
              "      quickchartButtonEl.classList.add('colab-df-spinner');\n",
              "      try {\n",
              "        const charts = await google.colab.kernel.invokeFunction(\n",
              "            'suggestCharts', [key], {});\n",
              "      } catch (error) {\n",
              "        console.error('Error during call to suggestCharts:', error);\n",
              "      }\n",
              "      quickchartButtonEl.classList.remove('colab-df-spinner');\n",
              "      quickchartButtonEl.classList.add('colab-df-quickchart-complete');\n",
              "    }\n",
              "    (() => {\n",
              "      let quickchartButtonEl =\n",
              "        document.querySelector('#df-ecbb2cf2-aba9-42bb-b60a-012f13ae3917 button');\n",
              "      quickchartButtonEl.style.display =\n",
              "        google.colab.kernel.accessAllowed ? 'block' : 'none';\n",
              "    })();\n",
              "  </script>\n",
              "</div>\n",
              "    </div>\n",
              "  </div>\n"
            ],
            "text/plain": [
              "                      filename  type    number  is_correct\n",
              "0    /content/null/NONE180.jpg     0  94012576           0\n",
              "1      /content/null/NONE4.jpg     0  94012576           0\n",
              "2     /content/null/NONE24.jpg     0  94012576           0\n",
              "3     /content/null/NONE71.jpg     0  94012576           0\n",
              "4     /content/null/NONE89.jpg     0  94012576           0\n",
              "..                         ...   ...       ...         ...\n",
              "140  /content/null/NONE118.jpg     0  94012576           0\n",
              "141   /content/null/NONE70.jpg     0  94012576           0\n",
              "142  /content/null/NONE137.jpg     0  94012576           0\n",
              "143   /content/null/NONE92.jpg     0  94012576           0\n",
              "144  /content/null/NONE112.jpg     0  94012576           0\n",
              "\n",
              "[145 rows x 4 columns]"
            ]
          },
          "execution_count": 43,
          "metadata": {},
          "output_type": "execute_result"
        }
      ],
      "source": [
        "df"
      ]
    }
  ],
  "metadata": {
    "accelerator": "GPU",
    "colab": {
      "gpuType": "T4",
      "provenance": []
    },
    "kernelspec": {
      "display_name": "Python 3",
      "name": "python3"
    },
    "language_info": {
      "name": "python"
    }
  },
  "nbformat": 4,
  "nbformat_minor": 0
}
